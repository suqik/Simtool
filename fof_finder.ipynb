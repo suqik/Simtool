{
 "cells": [
  {
   "cell_type": "code",
   "execution_count": 1,
   "metadata": {},
   "outputs": [],
   "source": [
    "import numpy as np\n",
    "\n",
    "from nbodykit.source.catalog import Gadget1Catalog, BigFileCatalog\n",
    "from nbodykit.lab import FOF\n",
    "from nbodykit.cosmology import Cosmology"
   ]
  },
  {
   "cell_type": "markdown",
   "metadata": {},
   "source": [
    "### Load DM catalog & Find Halos"
   ]
  },
  {
   "cell_type": "code",
   "execution_count": 3,
   "metadata": {},
   "outputs": [],
   "source": [
    "MYPlanck = Cosmology(m_ncdm=[],\n",
    "               Omega0_b=0.0491,\n",
    "               Omega0_cdm=0.3156 - 0.0491, \n",
    "               h=0.6727)\\\n",
    "            .match(sigma8=0.831)"
   ]
  },
  {
   "cell_type": "code",
   "execution_count": 3,
   "metadata": {},
   "outputs": [],
   "source": [
    "def Gadget2BigFile(fname):\n",
    "    cat = Gadget1Catalog(fname, ptype=1, \n",
    "                         columndefs=[('Position', ('auto', 3), 'all'), \n",
    "                                     ('GadgetVelocity', ('auto', 3), 'all'), \n",
    "                                     ('ID', 'auto', 'all')])\n",
    "\n",
    "    attrs = cat.attrs.copy()\n",
    "    cat.attrs.clear()\n",
    "\n",
    "    cat.attrs['MassTable'] = attrs['Massarr']\n",
    "    cat.attrs['TotNumPart'] = np.int64(attrs['Nall']) + (np.int64(attrs['NallHW']) << 32)\n",
    "    cat.attrs['TotNumPartInit'] = np.int64(attrs['Nall']) + (np.int64(attrs['NallHW']) << 32)\n",
    "    cat.attrs['BoxSize'] = attrs['BoxSize']*np.ones(3) # for FOF finder\n",
    "    cat.attrs['Time'] = attrs['Time']\n",
    "    cat.attrs['ScalingFactor'] = attrs['Time']\n",
    "\n",
    "    cat.attrs['TimeIC'] = attrs['Time']\n",
    "\n",
    "    cat.attrs['UnitVelocity_in_cm_per_s'] = 1e5\n",
    "\n",
    "    cat.attrs['UnitLength_in_cm'] = 3.085678e21\n",
    "\n",
    "    cat.attrs['UnitMass_in_g'] = 1.989e43\n",
    "\n",
    "    # The velocity convention is weird without this\n",
    "    cat.attrs['UsePeculiarVelocity'] = True\n",
    "\n",
    "    a = attrs['Time']\n",
    "    cat['Velocity'] = cat['GadgetVelocity'] * a ** 0.5\n",
    "\n",
    "    return cat"
   ]
  },
  {
   "cell_type": "markdown",
   "metadata": {},
   "source": [
    "Nbody simulation, FOF with linking-length=0.200"
   ]
  },
  {
   "cell_type": "code",
   "execution_count": 2,
   "metadata": {},
   "outputs": [
    {
     "name": "stderr",
     "output_type": "stream",
     "text": [
      "/home/suqikuai777/.local/lib/python3.10/site-packages/bigfile/__init__.py:358: FutureWarning: Passing (type, 1) or '1type' as a synonym of type is deprecated; in a future version of numpy, it will be understood as (type, (1,)) / '(1,)type'.\n",
      "  return pyxbigfile.Dataset.__init__(self, file, dtype=dtype, size=size)\n"
     ]
    }
   ],
   "source": [
    "halos_nbd = BigFileCatalog(\"../catalog/Nbody/\", dataset=\"LL-0.200/\", header='Header')"
   ]
  },
  {
   "cell_type": "markdown",
   "metadata": {},
   "source": [
    "FastPM with Nbody IC, FOF with linking-length=0.200"
   ]
  },
  {
   "cell_type": "code",
   "execution_count": 3,
   "metadata": {},
   "outputs": [],
   "source": [
    "halos_fpm_nbdic = BigFileCatalog(\"../catalog/calibration/jiajun/N256/a_0.7692/\", dataset=\"LL-0.200/\", header=\"Header\")"
   ]
  },
  {
   "cell_type": "markdown",
   "metadata": {},
   "source": [
    "FastPM N512 with Nbody IC, FOF with linking-length=0.200"
   ]
  },
  {
   "cell_type": "code",
   "execution_count": 4,
   "metadata": {},
   "outputs": [],
   "source": [
    "halos_fpm_nbdic_n512 = BigFileCatalog(\"../catalog/calibration/jiajun/N512/a_0.7692/\", dataset=\"LL-0.200/\", header=\"Header\")"
   ]
  },
  {
   "cell_type": "markdown",
   "metadata": {},
   "source": [
    "FastPM with random IC, FOF with linking-length=0.200"
   ]
  },
  {
   "cell_type": "code",
   "execution_count": 7,
   "metadata": {},
   "outputs": [],
   "source": [
    "halos_fpm_ranic = BigFileCatalog(\"../catalog/calibration/randomIC/a_0.7692/\", dataset=\"LL-0.200/\", header=\"Header\")"
   ]
  },
  {
   "cell_type": "markdown",
   "metadata": {},
   "source": [
    "### Calculate (cumulative) Halo Mass Function"
   ]
  },
  {
   "cell_type": "code",
   "execution_count": 5,
   "metadata": {},
   "outputs": [],
   "source": [
    "from WLutil.measure import get_abundance\n",
    "from WLutil.visualize import simple_plot, residual_plot"
   ]
  },
  {
   "cell_type": "markdown",
   "metadata": {},
   "source": [
    "Theoretical calculation"
   ]
  },
  {
   "cell_type": "code",
   "execution_count": 6,
   "metadata": {},
   "outputs": [],
   "source": [
    "from colossus.cosmology import cosmology\n",
    "from colossus.lss import mass_function"
   ]
  },
  {
   "cell_type": "markdown",
   "metadata": {},
   "source": [
    "Define Mass Bin"
   ]
  },
  {
   "cell_type": "code",
   "execution_count": 7,
   "metadata": {},
   "outputs": [],
   "source": [
    "bins = np.linspace(10, 15.5, 50)"
   ]
  },
  {
   "cell_type": "code",
   "execution_count": 8,
   "metadata": {},
   "outputs": [],
   "source": [
    "def cal_binned_HMF(mass, z, islog=True, mdef='fof', model='watson13', ifcum=True):\n",
    "    params = {'flat': True, 'H0': 67.27, 'Om0': 0.3156, 'Ob0': 0.0491, 'sigma8': 0.831, 'ns': 1.0}\n",
    "    cosmology.addCosmology('myCosmo', **params)\n",
    "    cosmology.setCosmology('myCosmo')\n",
    "\n",
    "    if not islog:\n",
    "        mass = np.log10(mass)\n",
    "    if len(mass) != 1:\n",
    "        ledge = mass[0] - (mass[1]-mass[0])/2.\n",
    "        redge = mass[-1] + (mass[-1]-mass[-2])/2.\n",
    "        edges = np.append(ledge, np.append((mass[1:]+mass[:-1])/2., redge))\n",
    "    \n",
    "        binned_mfunc = []\n",
    "        for i in range(len(edges)-1):\n",
    "            Mmin = edges[i]\n",
    "            Mmax = edges[i+1]\n",
    "            Minte = np.linspace(Mmin, Mmax, 100)\n",
    "            mfunc_fof = mass_function.massFunction(10**Minte, z, mdef=mdef, model=model, q_out='dndlnM')\n",
    "            binned_mfunc.append(np.trapz(mfunc_fof, np.log(10.)*Minte))\n",
    "    else:\n",
    "        binned_mfunc = [mass_function.massFunction(10**mass, z, mdef=mdef, model=model, q_out='dndlnM')]\n",
    "    \n",
    "    if ifcum:\n",
    "        return (np.cumsum(binned_mfunc[::-1])[::-1])\n",
    "    else:\n",
    "        return (np.array(binned_mfunc))"
   ]
  },
  {
   "cell_type": "code",
   "execution_count": 9,
   "metadata": {},
   "outputs": [],
   "source": [
    "redshift = 0.3\n",
    "boxsize = 400\n",
    "Om0 = 0.31\n",
    "params = {'flat': True, 'H0': 67.27, 'Om0': 0.3156, 'Ob0': 0.0491, 'sigma8': 0.831, 'ns': 1.0}\n",
    "cosmology.addCosmology('myCosmo', **params)\n",
    "cosmology.setCosmology('myCosmo');\n",
    "\n",
    "# binned_mfun_fof = cal_binned_HMF(bins, z=0.3, islog=True, mdef='fof', model='watson13')\n",
    "logNm_watson13 = cal_binned_HMF(bins, z=0.3, islog=True, mdef='fof', model='watson13', ifcum=False)"
   ]
  },
  {
   "cell_type": "markdown",
   "metadata": {},
   "source": [
    "Measure HMF from halo catalog"
   ]
  },
  {
   "cell_type": "code",
   "execution_count": 10,
   "metadata": {},
   "outputs": [],
   "source": [
    "def get_HMF(mass, bins, boxsize, isedge=False, bin_scale='linear', ifcum=True):\n",
    "    mctr_list = []\n",
    "    logNm_list = []\n",
    "\n",
    "    if type(mass) is not list:\n",
    "        mass = [mass]\n",
    "    if type(boxsize) is not list:\n",
    "        boxsize = [boxsize]*len(mass)\n",
    "    elif len(boxsize) != len(mass):\n",
    "        raise ValueError(\"The size of boxsize list must be the same as mass list!\")\n",
    "    \n",
    "    for imass, ibox in zip(mass, boxsize):\n",
    "        ni, mi = get_abundance(imass, bins, isedge=isedge, bin_scale=bin_scale, density=False)\n",
    "        if bin_scale == 'linear':\n",
    "            mctr = (mi[1:] + mi[:-1])/2.\n",
    "        else:\n",
    "            mctr = np.sqrt(mi[1:]*mi[:-1])\n",
    "        if ifcum:\n",
    "            ilogNm = (np.cumsum(ni[::-1])[::-1]/ibox/ibox/ibox)\n",
    "        else:\n",
    "            ilogNm = (ni/ibox/ibox/ibox)\n",
    "\n",
    "        mctr_list.append(mctr)\n",
    "        logNm_list.append(ilogNm)\n",
    "\n",
    "    if len(mctr_list) == 1:\n",
    "        return mctr_list[0], logNm_list[0]\n",
    "    else:\n",
    "        return mctr_list, logNm_list"
   ]
  },
  {
   "cell_type": "code",
   "execution_count": 11,
   "metadata": {},
   "outputs": [
    {
     "name": "stderr",
     "output_type": "stream",
     "text": [
      "/home/suqikuai777/.local/lib/python3.10/site-packages/bigfile/__init__.py:358: FutureWarning: Passing (type, 1) or '1type' as a synonym of type is deprecated; in a future version of numpy, it will be understood as (type, (1,)) / '(1,)type'.\n",
      "  return pyxbigfile.Dataset.__init__(self, file, dtype=dtype, size=size)\n"
     ]
    }
   ],
   "source": [
    "mass_list = [np.log10(halos_nbd['Mass'].compute()),\n",
    "            np.log10(halos_fpm_nbdic['Mass'].compute()),\n",
    "            # np.log10(halos_fpm_ranic['Mass'].compute()), \n",
    "            np.log10(halos_fpm_nbdic_n512['Mass'].compute())]\n",
    "mctr_list, logNm_list = get_HMF(mass_list, bins, boxsize=400.0, ifcum=False)"
   ]
  },
  {
   "cell_type": "markdown",
   "metadata": {},
   "source": [
    "choose the Maximum halos that match nh of BOSS, and measure wp, should be larger than BOSS's results.\n",
    "mass times gaussian random with sigma~0.2-0.3 like SHAM (HAM) should be smaller than first results."
   ]
  },
  {
   "cell_type": "code",
   "execution_count": 14,
   "metadata": {},
   "outputs": [
    {
     "data": {
      "image/png": "[encoded data removed]",
      "text/plain": [
       "<Figure size 640x480 with 2 Axes>"
      ]
     },
     "metadata": {},
     "output_type": "display_data"
    }
   ],
   "source": [
    "residual_plot(mctr_list+[bins], logNm_list+[logNm_watson13],\n",
    "            clist=[None]*len(logNm_list)+['k'],\n",
    "            lslist=['-']*len(logNm_list)+['--'], \n",
    "            legends=['Nbody', \n",
    "                     'FastPM sameIC', \n",
    "                    #  'FastPM randomIC',\n",
    "                     'FastPM sameIC N512',\n",
    "                     'watson13'], \n",
    "            scale='semilogy',\n",
    "            xlim=[12, 15.5], y1lim=[1e-8, 2*10**(-3)], y2lim=[-0.5,0.5],\n",
    "            xlabel='log[M/Msun]', y1label='log[N(>M)/V]', y2label=r'$\\Delta$');"
   ]
  },
  {
   "cell_type": "code",
   "execution_count": 16,
   "metadata": {},
   "outputs": [
    {
     "name": "stderr",
     "output_type": "stream",
     "text": [
      "/home/suqikuai777/.local/lib/python3.10/site-packages/bigfile/__init__.py:358: FutureWarning: Passing (type, 1) or '1type' as a synonym of type is deprecated; in a future version of numpy, it will be understood as (type, (1,)) / '(1,)type'.\n",
      "  return pyxbigfile.Dataset.__init__(self, file, dtype=dtype, size=size)\n",
      "/home/suqikuai777/.local/lib/python3.10/site-packages/bigfile/__init__.py:358: FutureWarning: Passing (type, 1) or '1type' as a synonym of type is deprecated; in a future version of numpy, it will be understood as (type, (1,)) / '(1,)type'.\n",
      "  return pyxbigfile.Dataset.__init__(self, file, dtype=dtype, size=size)\n"
     ]
    },
    {
     "data": {
      "text/plain": [
       "7807"
      ]
     },
     "execution_count": 16,
     "metadata": {},
     "output_type": "execute_result"
    }
   ],
   "source": [
    "np.sum((halos_fpm_nbdic_n512['Mass']>10**(13.5)).compute())"
   ]
  },
  {
   "cell_type": "code",
   "execution_count": 62,
   "metadata": {},
   "outputs": [
    {
     "name": "stderr",
     "output_type": "stream",
     "text": [
      "/home/suqikuai777/.local/lib/python3.10/site-packages/bigfile/__init__.py:358: FutureWarning: Passing (type, 1) or '1type' as a synonym of type is deprecated; in a future version of numpy, it will be understood as (type, (1,)) / '(1,)type'.\n",
      "  return pyxbigfile.Dataset.__init__(self, file, dtype=dtype, size=size)\n"
     ]
    },
    {
     "data": {
      "text/plain": [
       "1521"
      ]
     },
     "execution_count": 62,
     "metadata": {},
     "output_type": "execute_result"
    }
   ],
   "source": [
    "np.sum((halos_nbd['Mass']>10**(14)).compute())"
   ]
  },
  {
   "cell_type": "markdown",
   "metadata": {},
   "source": [
    "### Measure halo 2pcf"
   ]
  },
  {
   "cell_type": "code",
   "execution_count": 37,
   "metadata": {},
   "outputs": [],
   "source": [
    "from WLutil.measure import get_auto_2pcf"
   ]
  },
  {
   "cell_type": "markdown",
   "metadata": {},
   "source": [
    "halo mass > 1e13"
   ]
  },
  {
   "cell_type": "code",
   "execution_count": 57,
   "metadata": {},
   "outputs": [
    {
     "name": "stderr",
     "output_type": "stream",
     "text": [
      "/home/suqikuai777/.local/lib/python3.10/site-packages/bigfile/__init__.py:358: FutureWarning: Passing (type, 1) or '1type' as a synonym of type is deprecated; in a future version of numpy, it will be understood as (type, (1,)) / '(1,)type'.\n",
      "  return pyxbigfile.Dataset.__init__(self, file, dtype=dtype, size=size)\n"
     ]
    },
    {
     "name": "stdout",
     "output_type": "stream",
     "text": [
      "Loading configurations ...\n",
      "  CONFIG_FILE     = fcfc_2pt_box.conf\n",
      "  CATALOG_LABEL   = 'D' , 'R'\n",
      "  BOX_SIZE        = 400 , 400 , 400\n",
      "  DATA_STRUCT     = 0 (k-d tree)\n",
      "  BINNING_SCHEME  = 1 (s & mu)\n",
      "  PAIR_COUNT      = DD , DR , RR\n",
      "  CF_ESTIMATOR    = (DD - 2*DR + RR)/RR\n",
      "  MULTIPOLE       = 0 , 2 , 4\n",
      "  OMP_NUM_THREADS = 32\n",
      "\u001b[70C[\u001b[32;1mDONE\u001b[0m]\n",
      "Initializing the correlation function calculator ...\n",
      "  19 separation bins loaded\n",
      "\n",
      "Creating a hybrid lookup table for nonlinear bins\n",
      "  Separation bins initialized successfully\n",
      "  Memory allocated for pair counts and correlation functions\n",
      "\u001b[70C[\u001b[32;1mDONE\u001b[0m]\n",
      "Construct the tree for catalog 'D' ...\n",
      "  k-d tree (4095 nodes) constructed for the catalog\n",
      "\u001b[70C[\u001b[32;1mDONE\u001b[0m]\n",
      "Counting DD pairs ...\n",
      "\u001b[70C[\u001b[32;1mDONE\u001b[0m]\n",
      "Construct the tree for catalog 'R' ...\n",
      "  k-d tree (65535 nodes) constructed for the catalog\n",
      "\u001b[70C[\u001b[32;1mDONE\u001b[0m]\n",
      "Counting DR pairs ...\n",
      "\u001b[70C[\u001b[32;1mDONE\u001b[0m]\n",
      "Counting RR pairs ...\n",
      "\u001b[70C[\u001b[32;1mDONE\u001b[0m]\n",
      "Evaluate correlation function estimators ...\n",
      "\u001b[70C[\u001b[32;1mDONE\u001b[0m]\n",
      "Compute correlation function multipoles ...\n",
      "\u001b[70C[\u001b[32;1mDONE\u001b[0m]\n"
     ]
    },
    {
     "name": "stderr",
     "output_type": "stream",
     "text": [
      "\n",
      "\u001b[35;1mWarning:\u001b[0m cannot access the configuration file: `fcfc_2pt_box.conf'\n"
     ]
    }
   ],
   "source": [
    "cut = halos_nbd['Mass'].compute()>1e13\n",
    "r, mono, quad, hexi = get_auto_2pcf((halos_nbd['Position'][cut]/1000).compute(), boxsize=400., min_sep=0.5, max_sep=150, nbins=20, scale='linear')"
   ]
  },
  {
   "cell_type": "code",
   "execution_count": 70,
   "metadata": {},
   "outputs": [
    {
     "data": {
      "text/plain": [
       "29328"
      ]
     },
     "execution_count": 70,
     "metadata": {},
     "output_type": "execute_result"
    }
   ],
   "source": [
    "cut = halos_nbd['Mass'].compute()>10**(13)\n",
    "np.sum(cut)"
   ]
  },
  {
   "cell_type": "code",
   "execution_count": 59,
   "metadata": {},
   "outputs": [
    {
     "name": "stderr",
     "output_type": "stream",
     "text": [
      "/home/suqikuai777/.local/lib/python3.10/site-packages/bigfile/__init__.py:358: FutureWarning: Passing (type, 1) or '1type' as a synonym of type is deprecated; in a future version of numpy, it will be understood as (type, (1,)) / '(1,)type'.\n",
      "  return pyxbigfile.Dataset.__init__(self, file, dtype=dtype, size=size)\n",
      "\n",
      "\u001b[35;1mWarning:\u001b[0m cannot access the configuration file: `fcfc_2pt_box.conf'\n"
     ]
    },
    {
     "name": "stdout",
     "output_type": "stream",
     "text": [
      "Loading configurations ...\n",
      "  CONFIG_FILE     = fcfc_2pt_box.conf\n",
      "  CATALOG_LABEL   = 'D' , 'R'\n",
      "  BOX_SIZE        = 400 , 400 , 400\n",
      "  DATA_STRUCT     = 0 (k-d tree)\n",
      "  BINNING_SCHEME  = 1 (s & mu)\n",
      "  PAIR_COUNT      = DD , DR , RR\n",
      "  CF_ESTIMATOR    = (DD - 2*DR + RR)/RR\n",
      "  MULTIPOLE       = 0 , 2 , 4\n",
      "  OMP_NUM_THREADS = 32\n",
      "\u001b[70C[\u001b[32;1mDONE\u001b[0m]\n",
      "Initializing the correlation function calculator ...\n",
      "  19 separation bins loaded\n",
      "\n",
      "Creating a hybrid lookup table for nonlinear bins\n",
      "  Separation bins initialized successfully\n",
      "  Memory allocated for pair counts and correlation functions\n",
      "\u001b[70C[\u001b[32;1mDONE\u001b[0m]\n",
      "Construct the tree for catalog 'D' ...\n",
      "  k-d tree (4095 nodes) constructed for the catalog\n",
      "\u001b[70C[\u001b[32;1mDONE\u001b[0m]\n",
      "Counting DD pairs ...\n",
      "\u001b[70C[\u001b[32;1mDONE\u001b[0m]\n",
      "Construct the tree for catalog 'R' ...\n",
      "  k-d tree (32767 nodes) constructed for the catalog\n",
      "\u001b[70C[\u001b[32;1mDONE\u001b[0m]\n",
      "Counting DR pairs ...\n",
      "\u001b[70C[\u001b[32;1mDONE\u001b[0m]\n",
      "Counting RR pairs ...\n",
      "\u001b[70C[\u001b[32;1mDONE\u001b[0m]\n",
      "Evaluate correlation function estimators ...\n",
      "\u001b[70C[\u001b[32;1mDONE\u001b[0m]\n",
      "Compute correlation function multipoles ...\n",
      "\u001b[70C[\u001b[32;1mDONE\u001b[0m]\n"
     ]
    }
   ],
   "source": [
    "cut = halos_fpm_nbdic['Mass'].compute()>1e13\n",
    "r_ic, mono_ic, quad, hexi = get_auto_2pcf(halos_fpm_nbdic['Position'].compute()[cut], boxsize=400., min_sep=0.5, max_sep=150, nbins=20, scale='linear')"
   ]
  },
  {
   "cell_type": "code",
   "execution_count": 71,
   "metadata": {},
   "outputs": [
    {
     "data": {
      "text/plain": [
       "21272"
      ]
     },
     "execution_count": 71,
     "metadata": {},
     "output_type": "execute_result"
    }
   ],
   "source": [
    "cut = halos_fpm_nbdic['Mass'].compute()>10**(13)\n",
    "np.sum(cut)"
   ]
  },
  {
   "cell_type": "code",
   "execution_count": 55,
   "metadata": {},
   "outputs": [
    {
     "name": "stderr",
     "output_type": "stream",
     "text": [
      "/home/suqikuai777/.local/lib/python3.10/site-packages/bigfile/__init__.py:358: FutureWarning: Passing (type, 1) or '1type' as a synonym of type is deprecated; in a future version of numpy, it will be understood as (type, (1,)) / '(1,)type'.\n",
      "  return pyxbigfile.Dataset.__init__(self, file, dtype=dtype, size=size)\n",
      "\n",
      "\u001b[35;1mWarning:\u001b[0m cannot access the configuration file: `fcfc_2pt_box.conf'\n"
     ]
    },
    {
     "name": "stdout",
     "output_type": "stream",
     "text": [
      "Loading configurations ...\n",
      "  CONFIG_FILE     = fcfc_2pt_box.conf\n",
      "  CATALOG_LABEL   = 'D' , 'R'\n",
      "  BOX_SIZE        = 400 , 400 , 400\n",
      "  DATA_STRUCT     = 0 (k-d tree)\n",
      "  BINNING_SCHEME  = 1 (s & mu)\n",
      "  PAIR_COUNT      = DD , DR , RR\n",
      "  CF_ESTIMATOR    = (DD - 2*DR + RR)/RR\n",
      "  MULTIPOLE       = 0 , 2 , 4\n",
      "  OMP_NUM_THREADS = 32\n",
      "\u001b[70C[\u001b[32;1mDONE\u001b[0m]\n",
      "Initializing the correlation function calculator ...\n",
      "  19 separation bins loaded\n",
      "\n",
      "Creating a hybrid lookup table for nonlinear bins\n",
      "  Separation bins initialized successfully\n",
      "  Memory allocated for pair counts and correlation functions\n",
      "\u001b[70C[\u001b[32;1mDONE\u001b[0m]\n",
      "Construct the tree for catalog 'D' ...\n",
      "  k-d tree (4095 nodes) constructed for the catalog\n",
      "\u001b[70C[\u001b[32;1mDONE\u001b[0m]\n",
      "Counting DD pairs ...\n",
      "\u001b[70C[\u001b[32;1mDONE\u001b[0m]\n",
      "Construct the tree for catalog 'R' ...\n",
      "  k-d tree (32767 nodes) constructed for the catalog\n",
      "\u001b[70C[\u001b[32;1mDONE\u001b[0m]\n",
      "Counting DR pairs ...\n",
      "\u001b[70C[\u001b[32;1mDONE\u001b[0m]\n",
      "Counting RR pairs ...\n",
      "\u001b[70C[\u001b[32;1mDONE\u001b[0m]\n",
      "Evaluate correlation function estimators ...\n",
      "\u001b[70C[\u001b[32;1mDONE\u001b[0m]\n",
      "Compute correlation function multipoles ...\n",
      "\u001b[70C[\u001b[32;1mDONE\u001b[0m]\n"
     ]
    }
   ],
   "source": [
    "cut = halos_fpm['Mass'].compute()>1e13\n",
    "r2, mono2, quad, hexi = get_auto_2pcf(halos_fpm['Position'].compute()[cut], boxsize=400., min_sep=0.5, max_sep=150, nbins=20, scale='linear')"
   ]
  },
  {
   "cell_type": "code",
   "execution_count": 60,
   "metadata": {},
   "outputs": [
    {
     "data": {
      "image/png": "[encoded data removed]",
      "text/plain": [
       "<Figure size 640x480 with 1 Axes>"
      ]
     },
     "metadata": {},
     "output_type": "display_data"
    }
   ],
   "source": [
    "simple_plot([r, r_ic, r2], [mono*r**2, mono_ic*r_ic**2, mono2*r2**2], scale='linear', \n",
    "            mlist='x', xlabel=\"s [Mpc/h]\", ylabel=r\"$s^2\\xi$\", \n",
    "            legends=['Nbody', 'FastPM same IC', 'FastPM random IC']);"
   ]
  },
  {
   "cell_type": "code",
   "execution_count": 96,
   "metadata": {},
   "outputs": [
    {
     "data": {
      "text/plain": [
       "21272"
      ]
     },
     "execution_count": 96,
     "metadata": {},
     "output_type": "execute_result"
    }
   ],
   "source": [
    "len(halos_fpm_nbdic['Position'][cut])"
   ]
  },
  {
   "cell_type": "markdown",
   "metadata": {},
   "source": [
    "### Measure Void statistics"
   ]
  },
  {
   "cell_type": "markdown",
   "metadata": {},
   "source": [
    "Void Size Function"
   ]
  },
  {
   "cell_type": "code",
   "execution_count": 11,
   "metadata": {},
   "outputs": [],
   "source": [
    "import numpy as np\n",
    "from nbodykit.source.catalog import BigFileCatalog\n",
    "from WLutil.catalog import DMpart, Tracer\n",
    "from WLutil.measure import get_abundance\n",
    "from WLutil.visualize import hist_plot, simple_plot, residual_plot"
   ]
  },
  {
   "cell_type": "code",
   "execution_count": 15,
   "metadata": {},
   "outputs": [],
   "source": [
    "void_nbd = Tracer()\n",
    "void_nbd.load_from_ascii(\"../catalog/Nbody/Void_cut.dat\", Radius=-1)"
   ]
  },
  {
   "cell_type": "code",
   "execution_count": 16,
   "metadata": {},
   "outputs": [],
   "source": [
    "void_fpm_nbdic = Tracer()\n",
    "void_fpm_nbdic.load_from_ascii(\"../catalog/calibration/jiajun/a_0.7692/Void_cut.dat\", Radius=-1)"
   ]
  },
  {
   "cell_type": "markdown",
   "metadata": {},
   "source": [
    "raw Radius bin"
   ]
  },
  {
   "cell_type": "code",
   "execution_count": 17,
   "metadata": {},
   "outputs": [
    {
     "data": {
      "text/plain": [
       "array([ 0.,  2.,  4.,  6.,  8., 10., 12., 14., 16., 18., 20., 22., 24.,\n",
       "       26., 28., 30.])"
      ]
     },
     "execution_count": 17,
     "metadata": {},
     "output_type": "execute_result"
    }
   ],
   "source": [
    "raw_Rbins = np.linspace(0, 30, 16)\n",
    "raw_Rbins"
   ]
  },
  {
   "cell_type": "code",
   "execution_count": 18,
   "metadata": {},
   "outputs": [],
   "source": [
    "n1, R1 = get_abundance(void_nbd.Radius, bins=raw_Rbins, isedge=True, density=True)\n",
    "n2, R2 = get_abundance(void_fpm_nbdic.Radius, bins=raw_Rbins, isedge=True, density=True)"
   ]
  },
  {
   "cell_type": "code",
   "execution_count": 19,
   "metadata": {},
   "outputs": [
    {
     "data": {
      "image/png": "[encoded data removed]",
      "text/plain": [
       "<Figure size 640x480 with 1 Axes>"
      ]
     },
     "metadata": {},
     "output_type": "display_data"
    }
   ],
   "source": [
    "hist_plot([n1, n2], [R1, R2], clist=['r', 'b'], legends=['Nbody', 'FastPM sameIC'],\n",
    "          xlabel='Rv [Mpc/n]', ylabel='N');"
   ]
  },
  {
   "cell_type": "markdown",
   "metadata": {},
   "source": [
    "rescaled Radius bin"
   ]
  },
  {
   "cell_type": "code",
   "execution_count": 20,
   "metadata": {},
   "outputs": [
    {
     "data": {
      "text/plain": [
       "array([0.        , 0.13157895, 0.26315789, 0.39473684, 0.52631579,\n",
       "       0.65789474, 0.78947368, 0.92105263, 1.05263158, 1.18421053,\n",
       "       1.31578947, 1.44736842, 1.57894737, 1.71052632, 1.84210526,\n",
       "       1.97368421, 2.10526316, 2.23684211, 2.36842105, 2.5       ])"
      ]
     },
     "execution_count": 20,
     "metadata": {},
     "output_type": "execute_result"
    }
   ],
   "source": [
    "re_Rbins = np.linspace(0, 2.5, 20)\n",
    "re_Rbins"
   ]
  },
  {
   "cell_type": "code",
   "execution_count": 21,
   "metadata": {},
   "outputs": [
    {
     "name": "stderr",
     "output_type": "stream",
     "text": [
      "/home/suqikuai777/.local/lib/python3.10/site-packages/bigfile/__init__.py:358: FutureWarning: Passing (type, 1) or '1type' as a synonym of type is deprecated; in a future version of numpy, it will be understood as (type, (1,)) / '(1,)type'.\n",
      "  return pyxbigfile.Dataset.__init__(self, file, dtype=dtype, size=size)\n"
     ]
    }
   ],
   "source": [
    "tmp = BigFileCatalog(\"../catalog/Nbody/\", dataset=\"LL-0.200/\")\n",
    "cut = tmp['Mass'].compute()>1e13\n",
    "nh_nbd = len(tmp['Position'][cut])/400./400./400.\n",
    "\n",
    "tmp = BigFileCatalog(\"../catalog/calibration/jiajun/a_0.7692/\", dataset=\"LL-0.200/\")\n",
    "cut = tmp['Mass'].compute()>1e13\n",
    "nh_fpm_nbdic = len(tmp['Position'][cut])/400./400./400."
   ]
  },
  {
   "cell_type": "code",
   "execution_count": 22,
   "metadata": {},
   "outputs": [],
   "source": [
    "n1, R1 = get_abundance(void_nbd.Radius*nh_nbd**(1./3.), bins=re_Rbins, isedge=True, density=True)\n",
    "n2, R2 = get_abundance(void_fpm_nbdic.Radius*nh_fpm_nbdic**(1./3.), bins=re_Rbins, isedge=True, density=True)"
   ]
  },
  {
   "cell_type": "code",
   "execution_count": 23,
   "metadata": {},
   "outputs": [
    {
     "data": {
      "image/png": "[encoded data removed]",
      "text/plain": [
       "<Figure size 640x480 with 1 Axes>"
      ]
     },
     "metadata": {},
     "output_type": "display_data"
    }
   ],
   "source": [
    "hist_plot([n1, n2], [R1, R2], clist=['r', 'b'], legends=['Nbody', 'FastPM sameIC'],\n",
    "          xlabel='Rv*nh**(1/3)', ylabel='N');"
   ]
  },
  {
   "cell_type": "code",
   "execution_count": 10,
   "metadata": {},
   "outputs": [],
   "source": [
    "from scipy.stats import ks_2samp"
   ]
  },
  {
   "cell_type": "code",
   "execution_count": 11,
   "metadata": {},
   "outputs": [
    {
     "data": {
      "text/plain": [
       "KstestResult(statistic=0.016234650396732553, pvalue=1.6387602516638027e-19, statistic_location=1.1332990771682332, statistic_sign=-1)"
      ]
     },
     "execution_count": 11,
     "metadata": {},
     "output_type": "execute_result"
    }
   ],
   "source": [
    "ks_2samp(void_nbd.Radius*nh_nbd**(1./3.), void_fpm_nbdic.Radius*nh_fpm_nbdic**(1./3.))"
   ]
  },
  {
   "cell_type": "markdown",
   "metadata": {},
   "source": [
    "Void profile"
   ]
  },
  {
   "cell_type": "code",
   "execution_count": 51,
   "metadata": {},
   "outputs": [],
   "source": [
    "from WLutil.measure import get_cross_2pcf"
   ]
  },
  {
   "cell_type": "code",
   "execution_count": 31,
   "metadata": {},
   "outputs": [],
   "source": [
    "reRmin = 1.2\n",
    "reRmax = 1.3\n",
    "reRv = (reRmin + reRmax)/2."
   ]
  },
  {
   "cell_type": "code",
   "execution_count": 30,
   "metadata": {},
   "outputs": [
    {
     "data": {
      "text/plain": [
       "16.213465625040612"
      ]
     },
     "execution_count": 30,
     "metadata": {},
     "output_type": "execute_result"
    }
   ],
   "source": [
    "cut = (reRmin < void_nbd.Radius*nh_nbd**(1./3.)) & (void_nbd.Radius*nh_nbd**(1./3.) < reRmax)\n",
    "void_nbd_pos = void_nbd.pos[cut]\n",
    "Rv_nbd = reRv/(nh_nbd**(1./3.))\n",
    "Rv_nbd"
   ]
  },
  {
   "cell_type": "code",
   "execution_count": 75,
   "metadata": {},
   "outputs": [],
   "source": [
    "dm_nbd = Tracer()\n",
    "dm_nbd.load_from_gadget(\"/mnt/d/Simu/lcdm/0/result/snapshot_011\")"
   ]
  },
  {
   "cell_type": "code",
   "execution_count": 81,
   "metadata": {},
   "outputs": [
    {
     "name": "stdout",
     "output_type": "stream",
     "text": [
      "Loading configurations ...\n",
      "  CONFIG_FILE     = fcfc_2pt_box.conf\n",
      "  CATALOG_LABEL   = 'A' , 'B'\n",
      "  BOX_SIZE        = 400 , 400 , 400\n",
      "  DATA_STRUCT     = 0 (k-d tree)\n",
      "  BINNING_SCHEME  = 1 (s & mu)\n",
      "  PAIR_COUNT      = AB\n",
      "  CF_ESTIMATOR    = AB / @@ - 1\n",
      "  MULTIPOLE       = 0\n",
      "  OMP_NUM_THREADS = 32\n",
      "\u001b[70C[\u001b[32;1mDONE\u001b[0m]\n",
      "Initializing the correlation function calculator ...\n",
      "  98 separation bins loaded\n",
      "\n",
      "Creating a hybrid lookup table for nonlinear bins\n",
      "  Separation bins initialized successfully\n",
      "  Memory allocated for pair counts and correlation functions\n",
      "\u001b[70C[\u001b[32;1mDONE\u001b[0m]\n",
      "Construct the tree for catalog 'A' ...\n",
      "  k-d tree (16777215 nodes) constructed for the catalog\n",
      "\u001b[70C[\u001b[32;1mDONE\u001b[0m]\n",
      "Construct the tree for catalog 'B' ...\n",
      "  k-d tree (8191 nodes) constructed for the catalog\n",
      "\u001b[70C[\u001b[32;1mDONE\u001b[0m]\n",
      "Counting AB pairs ...\n",
      "\u001b[70C[\u001b[32;1mDONE\u001b[0m]\n",
      "Evaluate correlation function estimators ...\n",
      "\u001b[70C[\u001b[32;1mDONE\u001b[0m]\n",
      "Compute correlation function multipoles ...\n",
      "\u001b[70C[\u001b[32;1mDONE\u001b[0m]\n"
     ]
    },
    {
     "name": "stderr",
     "output_type": "stream",
     "text": [
      "\n",
      "\u001b[35;1mWarning:\u001b[0m cannot access the configuration file: `fcfc_2pt_box.conf'\n"
     ]
    }
   ],
   "source": [
    "r, xi = get_cross_2pcf(dm_nbd.pos, void_nbd_pos, boxsize=400.,\n",
    "                       min_sep=0.1*Rv_nbd, max_sep=10*Rv_nbd, nbins=99, scale='log')"
   ]
  },
  {
   "cell_type": "code",
   "execution_count": 82,
   "metadata": {},
   "outputs": [],
   "source": [
    "np.savetxt(\"../catalog/Nbody/void_reR{:.1f}_{:.1f}.prof\".format(reRmin, reRmax), np.c_[r,xi])"
   ]
  },
  {
   "cell_type": "code",
   "execution_count": 32,
   "metadata": {},
   "outputs": [],
   "source": [
    "cut = (reRmin < void_fpm_nbdic.Radius*nh_nbd**(1./3.)) & (void_fpm_nbdic.Radius*nh_nbd**(1./3.) <reRmax)\n",
    "void_fpm_nbdic_pos = void_fpm_nbdic.pos[cut]\n",
    "Rv_fpm_nbdic = reRv/(nh_fpm_nbdic**(1./3.))"
   ]
  },
  {
   "cell_type": "code",
   "execution_count": 85,
   "metadata": {},
   "outputs": [
    {
     "name": "stderr",
     "output_type": "stream",
     "text": [
      "/home/suqikuai777/.local/lib/python3.10/site-packages/bigfile/__init__.py:358: FutureWarning: Passing (type, 1) or '1type' as a synonym of type is deprecated; in a future version of numpy, it will be understood as (type, (1,)) / '(1,)type'.\n",
      "  return pyxbigfile.Dataset.__init__(self, file, dtype=dtype, size=size)\n"
     ]
    }
   ],
   "source": [
    "dm_fpm_nbdic = DMpart()\n",
    "dm_fpm_nbdic.load_from_bigfile(\"../catalog/calibration/jiajun/a_0.7692/\", dataset=\"1/\", header=\"Header\")"
   ]
  },
  {
   "cell_type": "code",
   "execution_count": 86,
   "metadata": {},
   "outputs": [
    {
     "name": "stdout",
     "output_type": "stream",
     "text": [
      "Loading configurations ...\n",
      "  CONFIG_FILE     = fcfc_2pt_box.conf\n",
      "  CATALOG_LABEL   = 'A' , 'B'\n",
      "  BOX_SIZE        = 400 , 400 , 400\n",
      "  DATA_STRUCT     = 0 (k-d tree)\n",
      "  BINNING_SCHEME  = 1 (s & mu)\n",
      "  PAIR_COUNT      = AB\n",
      "  CF_ESTIMATOR    = AB / @@ - 1\n",
      "  MULTIPOLE       = 0\n",
      "  OMP_NUM_THREADS = 32\n",
      "\u001b[70C[\u001b[32;1mDONE\u001b[0m]\n",
      "Initializing the correlation function calculator ...\n",
      "  98 separation bins loaded\n",
      "\n",
      "Creating a hybrid lookup table for nonlinear bins\n",
      "  Separation bins initialized successfully\n",
      "  Memory allocated for pair counts and correlation functions\n",
      "\u001b[70C[\u001b[32;1mDONE\u001b[0m]\n",
      "Construct the tree for catalog 'A' ...\n",
      "  k-d tree (2097151 nodes) constructed for the catalog\n",
      "\u001b[70C[\u001b[32;1mDONE\u001b[0m]\n",
      "Construct the tree for catalog 'B' ...\n",
      "  k-d tree (4095 nodes) constructed for the catalog\n",
      "\u001b[70C[\u001b[32;1mDONE\u001b[0m]\n",
      "Counting AB pairs ...\n",
      "\u001b[70C[\u001b[32;1mDONE\u001b[0m]\n",
      "Evaluate correlation function estimators ...\n",
      "\u001b[70C[\u001b[32;1mDONE\u001b[0m]\n",
      "Compute correlation function multipoles ...\n",
      "\u001b[70C[\u001b[32;1mDONE\u001b[0m]\n"
     ]
    },
    {
     "name": "stderr",
     "output_type": "stream",
     "text": [
      "\n",
      "\u001b[35;1mWarning:\u001b[0m cannot access the configuration file: `fcfc_2pt_box.conf'\n"
     ]
    }
   ],
   "source": [
    "r2, xi2 = get_cross_2pcf(dm_fpm_nbdic.pos, void_fpm_nbdic_pos, boxsize=400.,\n",
    "                       min_sep=0.1*Rv_fpm_nbdic, max_sep=10*Rv_fpm_nbdic, nbins=99, scale='log')"
   ]
  },
  {
   "cell_type": "code",
   "execution_count": 57,
   "metadata": {},
   "outputs": [],
   "source": [
    "np.savetxt(\"../catalog/calibration/jiajun/a_0.7692/void_reR{:.1f}_{:.1f}.prof\".format(reRmin, reRmax), np.c_[r2,xi2])"
   ]
  },
  {
   "cell_type": "markdown",
   "metadata": {},
   "source": [
    "show void profile"
   ]
  },
  {
   "cell_type": "code",
   "execution_count": 33,
   "metadata": {},
   "outputs": [],
   "source": [
    "tmp = np.loadtxt(\"../catalog/Nbody/void_reR{:.1f}_{:.1f}.prof\".format(reRmin, reRmax))\n",
    "r, xi = tmp[:,0], tmp[:,1]"
   ]
  },
  {
   "cell_type": "code",
   "execution_count": 34,
   "metadata": {},
   "outputs": [],
   "source": [
    "tmp = np.loadtxt(\"../catalog/calibration/jiajun/a_0.7692/void_reR{:.1f}_{:.1f}.prof\".format(reRmin, reRmax))\n",
    "r2, xi2 = tmp[:,0], tmp[:,1]"
   ]
  },
  {
   "cell_type": "code",
   "execution_count": 35,
   "metadata": {},
   "outputs": [
    {
     "data": {
      "image/png": "[encoded data removed]",
      "text/plain": [
       "<Figure size 640x480 with 2 Axes>"
      ]
     },
     "metadata": {},
     "output_type": "display_data"
    }
   ],
   "source": [
    "fig, ax1, ax2 = residual_plot([r/Rv_nbd,r2/Rv_fpm_nbdic], [xi+1, xi2+1],\n",
    "                               clist=['r', 'b'], refline=1, scale='semilogx', legends=['Nbody', 'FastPM sameIC'],\n",
    "                               xlabel='r/Rv', y1label=r'$\\delta_r+1$', \n",
    "                                show=False);\n",
    "# ax1.text(2, 0.6, \"Rv_nbd = {:.2f}\\nRv_fpm = {:.2f}\".format(Rv_nbd, Rv_fpm_nbdic));"
   ]
  },
  {
   "cell_type": "markdown",
   "metadata": {},
   "source": [
    "mean value of Rv is no good\n",
    "Define the void radius as the pos of the peak\n",
    "total matter? center low --> out high"
   ]
  },
  {
   "cell_type": "code",
   "execution_count": null,
   "metadata": {},
   "outputs": [],
   "source": []
  }
 ],
 "metadata": {
  "kernelspec": {
   "display_name": "Python 3",
   "language": "python",
   "name": "python3"
  },
  "language_info": {
   "codemirror_mode": {
    "name": "ipython",
    "version": 3
   },
   "file_extension": ".py",
   "mimetype": "text/x-python",
   "name": "python",
   "nbconvert_exporter": "python",
   "pygments_lexer": "ipython3",
   "version": "3.10.12"
  }
 },
 "nbformat": 4,
 "nbformat_minor": 2
}
